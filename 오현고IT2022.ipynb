{
  "nbformat": 4,
  "nbformat_minor": 0,
  "metadata": {
    "colab": {
      "name": "오현고IT2022",
      "provenance": [],
      "collapsed_sections": [],
      "authorship_tag": "ABX9TyPiPyIvH0wcg3nD6rwkIN16",
      "include_colab_link": true
    },
    "kernelspec": {
      "name": "python3",
      "display_name": "Python 3"
    },
    "language_info": {
      "name": "python"
    }
  },
  "cells": [
    {
      "cell_type": "markdown",
      "metadata": {
        "id": "view-in-github",
        "colab_type": "text"
      },
      "source": [
        "<a href=\"https://colab.research.google.com/github/kyh018/kohyounhyuk/blob/main/%EC%98%A4%ED%98%84%EA%B3%A0IT2022.ipynb\" target=\"_parent\"><img src=\"https://colab.research.google.com/assets/colab-badge.svg\" alt=\"Open In Colab\"/></a>"
      ]
    },
    {
      "cell_type": "code",
      "execution_count": null,
      "metadata": {
        "id": "AE7Fwv5rgUCG",
        "colab": {
          "base_uri": "https://localhost:8080/"
        },
        "outputId": "12f7120d-def5-4287-e120-91c960733a1c"
      },
      "outputs": [
        {
          "output_type": "stream",
          "name": "stdout",
          "text": [
            "Hello World\n",
            "10\n"
          ]
        }
      ],
      "source": [
        "#print() print는 출력, ()는 값\n",
        "print(\"Hello World\")\n",
        "print(10)"
      ]
    },
    {
      "cell_type": "code",
      "source": [
        "print(문자1)\n",
        "#오류 고치는 방법\n",
        "#1.'문자1' 사이에 \"\"를 넣는다\n",
        "#2.변수 '문자1'을 지정해준다."
      ],
      "metadata": {
        "colab": {
          "base_uri": "https://localhost:8080/",
          "height": 172
        },
        "id": "vFkj4UcbkXqH",
        "outputId": "352f313a-64cd-4607-e353-fc3d9185e1d5"
      },
      "execution_count": 11,
      "outputs": [
        {
          "output_type": "error",
          "ename": "NameError",
          "evalue": "ignored",
          "traceback": [
            "\u001b[0;31m---------------------------------------------------------------------------\u001b[0m",
            "\u001b[0;31mNameError\u001b[0m                                 Traceback (most recent call last)",
            "\u001b[0;32m<ipython-input-11-164937fadd1d>\u001b[0m in \u001b[0;36m<module>\u001b[0;34m()\u001b[0m\n\u001b[0;32m----> 1\u001b[0;31m \u001b[0mprint\u001b[0m\u001b[0;34m(\u001b[0m\u001b[0m문자1\u001b[0m\u001b[0;34m)\u001b[0m\u001b[0;34m\u001b[0m\u001b[0;34m\u001b[0m\u001b[0m\n\u001b[0m",
            "\u001b[0;31mNameError\u001b[0m: name '문자1' is not defined"
          ]
        }
      ]
    },
    {
      "cell_type": "code",
      "source": [
        "print(\"문자1\") #1 \n",
        "문자1 = \"안녕하세요\" #2\n",
        "print(문자1)         #2"
      ],
      "metadata": {
        "colab": {
          "base_uri": "https://localhost:8080/"
        },
        "id": "OYgGtG_tkoyP",
        "outputId": "65b88bf7-6e6e-4b9f-f83a-a7a20ab009e9"
      },
      "execution_count": 14,
      "outputs": [
        {
          "output_type": "stream",
          "name": "stdout",
          "text": [
            "문자1\n",
            "안녕하세요\n"
          ]
        }
      ]
    },
    {
      "cell_type": "markdown",
      "source": [
        "# 이스케이프 문자"
      ],
      "metadata": {
        "id": "UVxpYYDxm01H"
      }
    },
    {
      "cell_type": "code",
      "source": [
        "print(\"\\\"\")"
      ],
      "metadata": {
        "colab": {
          "base_uri": "https://localhost:8080/"
        },
        "id": "aATbjXm6mkDy",
        "outputId": "cd7890bc-c40f-4736-b7bf-5e615f57534d"
      },
      "execution_count": 16,
      "outputs": [
        {
          "output_type": "stream",
          "name": "stdout",
          "text": [
            "\"\n"
          ]
        }
      ]
    },
    {
      "cell_type": "code",
      "source": [
        "print('안녕하세요\\b') # \\b는 벡스페이스"
      ],
      "metadata": {
        "colab": {
          "base_uri": "https://localhost:8080/"
        },
        "id": "gjmHznBwm7rl",
        "outputId": "d795f62d-c5a4-44f6-e557-3fd027ce94e4"
      },
      "execution_count": 17,
      "outputs": [
        {
          "output_type": "stream",
          "name": "stdout",
          "text": [
            "안녕하세요\b\n"
          ]
        }
      ]
    },
    {
      "cell_type": "code",
      "source": [
        "print(\"안녕하\\n세요\") # \\n은 줄바꿈"
      ],
      "metadata": {
        "colab": {
          "base_uri": "https://localhost:8080/"
        },
        "id": "lwq0Vo9unNbN",
        "outputId": "ba820f97-4a37-4df1-d666-78aa0659f32f"
      },
      "execution_count": 19,
      "outputs": [
        {
          "output_type": "stream",
          "name": "stdout",
          "text": [
            "안녕하\n",
            "세요\n"
          ]
        }
      ]
    },
    {
      "cell_type": "code",
      "source": [
        "print(\"안녕하\\t세요\") # \\t는 탭"
      ],
      "metadata": {
        "colab": {
          "base_uri": "https://localhost:8080/"
        },
        "id": "2iNyXHuenWrJ",
        "outputId": "6bf533be-b01b-4189-d962-c5f8e9df9a63"
      },
      "execution_count": 20,
      "outputs": [
        {
          "output_type": "stream",
          "name": "stdout",
          "text": [
            "안녕하\t세요\n"
          ]
        }
      ]
    },
    {
      "cell_type": "code",
      "source": [
        "print(\"안녕하\\\\세요\") # \\\\ \\문자 적어주기"
      ],
      "metadata": {
        "colab": {
          "base_uri": "https://localhost:8080/"
        },
        "id": "F16mCI3tnkGz",
        "outputId": "43dd26af-d821-4fac-d06d-aec1160d84e8"
      },
      "execution_count": 21,
      "outputs": [
        {
          "output_type": "stream",
          "name": "stdout",
          "text": [
            "안녕하\\세요\n"
          ]
        }
      ]
    },
    {
      "cell_type": "code",
      "source": [
        "print(\"\\\" \\'\") #\"\\\"는 큰따음표, \"\\'\"는 작은따음표"
      ],
      "metadata": {
        "colab": {
          "base_uri": "https://localhost:8080/"
        },
        "id": "hx7KIXu7nw_m",
        "outputId": "28416c7a-0d30-4bd2-c663-6392f395047f"
      },
      "execution_count": 22,
      "outputs": [
        {
          "output_type": "stream",
          "name": "stdout",
          "text": [
            "\" '\n"
          ]
        }
      ]
    },
    {
      "cell_type": "code",
      "source": [
        "print(\"\\\\\"+\"\\\"\"+\"(\"+\"\\'\"+'.'+\"\\'\"+\")\"+\"\\\"\"+\"/\")\n",
        "print(\"\\\\\\\"(\\'.\\')\\\"/\")"
      ],
      "metadata": {
        "colab": {
          "base_uri": "https://localhost:8080/"
        },
        "id": "WE5U_Dlqn9Cb",
        "outputId": "efdf95bb-494e-4969-804e-b76e55931f18"
      },
      "execution_count": 32,
      "outputs": [
        {
          "output_type": "stream",
          "name": "stdout",
          "text": [
            "\\\"('.')\"/\n",
            "\\\"('.')\"/\n"
          ]
        }
      ]
    },
    {
      "cell_type": "code",
      "source": [
        "print(\"데이터1\",\"데이터2\",\"데이터3\",)"
      ],
      "metadata": {
        "colab": {
          "base_uri": "https://localhost:8080/"
        },
        "id": "6_MT9Ie3povy",
        "outputId": "d773f503-2091-45eb-867c-79735a283fcf"
      },
      "execution_count": 35,
      "outputs": [
        {
          "output_type": "stream",
          "name": "stdout",
          "text": [
            "데이터1 데이터2 데이터3\n"
          ]
        }
      ]
    },
    {
      "cell_type": "code",
      "source": [
        "print(\"데이터1\",\"데이터2\",\"데이터3\",sep=\"\")"
      ],
      "metadata": {
        "colab": {
          "base_uri": "https://localhost:8080/"
        },
        "id": "sZYB1Up-qtPl",
        "outputId": "f5c10860-d14c-42c8-8d08-af0d9d082743"
      },
      "execution_count": 36,
      "outputs": [
        {
          "output_type": "stream",
          "name": "stdout",
          "text": [
            "데이터1데이터2데이터3\n"
          ]
        }
      ]
    },
    {
      "cell_type": "code",
      "source": [
        "print(\"데이터1\",\"데이터2\",\"데이터3\",sep=\"\\n\",end=\"끝\")"
      ],
      "metadata": {
        "colab": {
          "base_uri": "https://localhost:8080/"
        },
        "id": "dL-T8LYXq55u",
        "outputId": "638d1308-ee93-4108-a37c-f92ce08ad27c"
      },
      "execution_count": 37,
      "outputs": [
        {
          "output_type": "stream",
          "name": "stdout",
          "text": [
            "데이터1\n",
            "데이터2\n",
            "데이터3끝"
          ]
        }
      ]
    },
    {
      "cell_type": "code",
      "source": [
        "a=\"010\"\n",
        "b=2310\n",
        "c=3085\n",
        "print(a,\"-\",b,\"-\",c,sep=\"\")\n"
      ],
      "metadata": {
        "colab": {
          "base_uri": "https://localhost:8080/"
        },
        "id": "Dsy6BaXJrDiM",
        "outputId": "4751024e-f87d-41c8-c882-7bc62b084b92"
      },
      "execution_count": 42,
      "outputs": [
        {
          "output_type": "stream",
          "name": "stdout",
          "text": [
            "010-2310-3085\n"
          ]
        }
      ]
    },
    {
      "cell_type": "code",
      "source": [
        "a=\"010\"\n",
        "b=2310\n",
        "c=3085\n",
        "print(a,b,c,sep=\"-\")"
      ],
      "metadata": {
        "colab": {
          "base_uri": "https://localhost:8080/"
        },
        "id": "ZNuWKCSotNIM",
        "outputId": "628e1c44-c60d-4601-82b5-bba105593bae"
      },
      "execution_count": 43,
      "outputs": [
        {
          "output_type": "stream",
          "name": "stdout",
          "text": [
            "010-2310-3085\n"
          ]
        }
      ]
    },
    {
      "cell_type": "markdown",
      "source": [
        "# **변수**"
      ],
      "metadata": {
        "id": "mdeax_cRyvNd"
      }
    },
    {
      "cell_type": "code",
      "source": [
        "이름 = \"고윤혁\"\n",
        "print(이름)"
      ],
      "metadata": {
        "colab": {
          "base_uri": "https://localhost:8080/"
        },
        "id": "Z2kY2hRpy6_Z",
        "outputId": "e71641ba-1576-47a7-8ffd-3c82e908b87e"
      },
      "execution_count": 44,
      "outputs": [
        {
          "output_type": "stream",
          "name": "stdout",
          "text": [
            "고윤혁\n"
          ]
        }
      ]
    },
    {
      "cell_type": "code",
      "source": [
        "반 = 6"
      ],
      "metadata": {
        "id": "Boh4ymlkza_J"
      },
      "execution_count": 46,
      "outputs": []
    },
    {
      "cell_type": "code",
      "source": [
        "type(반)"
      ],
      "metadata": {
        "colab": {
          "base_uri": "https://localhost:8080/"
        },
        "id": "XbjEMU_5zXYx",
        "outputId": "984e6f9c-ce87-4e36-bb84-a870d972cb00"
      },
      "execution_count": 47,
      "outputs": [
        {
          "output_type": "execute_result",
          "data": {
            "text/plain": [
              "int"
            ]
          },
          "metadata": {},
          "execution_count": 47
        }
      ]
    },
    {
      "cell_type": "code",
      "source": [
        "반_데이터타입 = type(반)\n",
        "print(반_데이터타입)"
      ],
      "metadata": {
        "colab": {
          "base_uri": "https://localhost:8080/"
        },
        "id": "HTZ2vzcJziLl",
        "outputId": "87b0e745-f194-4fa1-8782-43f10f2d8613"
      },
      "execution_count": 48,
      "outputs": [
        {
          "output_type": "stream",
          "name": "stdout",
          "text": [
            "<class 'int'>\n"
          ]
        }
      ]
    },
    {
      "cell_type": "code",
      "source": [
        "이름_데이터타입 = type(이름)\n",
        "print(이름_데이터타입)\n"
      ],
      "metadata": {
        "colab": {
          "base_uri": "https://localhost:8080/"
        },
        "id": "QEwAnyPhzuZJ",
        "outputId": "2ea78db7-a54a-42d7-d1f5-771bb154d1dc"
      },
      "execution_count": 49,
      "outputs": [
        {
          "output_type": "stream",
          "name": "stdout",
          "text": [
            "<class 'str'>\n"
          ]
        }
      ]
    },
    {
      "cell_type": "code",
      "source": [
        "소수 = 0.5\n",
        "소수_데이터타입 = type(소수)\n",
        "print(소수_데이터타입)"
      ],
      "metadata": {
        "colab": {
          "base_uri": "https://localhost:8080/"
        },
        "id": "Re9Tas3pz2S_",
        "outputId": "a8acbc5e-6808-41df-e06d-288ab81a98fa"
      },
      "execution_count": 50,
      "outputs": [
        {
          "output_type": "stream",
          "name": "stdout",
          "text": [
            "<class 'float'>\n"
          ]
        }
      ]
    },
    {
      "cell_type": "code",
      "source": [
        "print(0b10)"
      ],
      "metadata": {
        "colab": {
          "base_uri": "https://localhost:8080/"
        },
        "id": "OWlJrKsu0B47",
        "outputId": "da3c3a63-9ff5-48aa-fb6f-044949759b72"
      },
      "execution_count": 53,
      "outputs": [
        {
          "output_type": "stream",
          "name": "stdout",
          "text": [
            "2\n"
          ]
        }
      ]
    },
    {
      "cell_type": "code",
      "source": [
        "print(0o10)"
      ],
      "metadata": {
        "colab": {
          "base_uri": "https://localhost:8080/"
        },
        "id": "rSR5MEh50xAl",
        "outputId": "83fb1786-e583-4ce9-d316-a5abe2251fca"
      },
      "execution_count": 56,
      "outputs": [
        {
          "output_type": "stream",
          "name": "stdout",
          "text": [
            "8\n"
          ]
        }
      ]
    },
    {
      "cell_type": "code",
      "source": [
        "print(0x10)"
      ],
      "metadata": {
        "colab": {
          "base_uri": "https://localhost:8080/"
        },
        "id": "X-b_0yCz00mE",
        "outputId": "e4d44a49-efb8-409f-b822-5a61d8d89672"
      },
      "execution_count": 57,
      "outputs": [
        {
          "output_type": "stream",
          "name": "stdout",
          "text": [
            "16\n"
          ]
        }
      ]
    },
    {
      "cell_type": "code",
      "source": [
        "print(10+5)\n",
        "print(10-5)\n",
        "print(10/2)\n",
        "print(10*2)\n"
      ],
      "metadata": {
        "colab": {
          "base_uri": "https://localhost:8080/"
        },
        "id": "sTdHsOh91JwM",
        "outputId": "ee05162d-92ff-4312-b453-3c6328c3b251"
      },
      "execution_count": 61,
      "outputs": [
        {
          "output_type": "stream",
          "name": "stdout",
          "text": [
            "15\n",
            "5\n",
            "5.0\n",
            "20\n"
          ]
        }
      ]
    },
    {
      "cell_type": "code",
      "source": [
        "print(2**3)"
      ],
      "metadata": {
        "colab": {
          "base_uri": "https://localhost:8080/"
        },
        "id": "dtYZwiVP1gzP",
        "outputId": "f7937351-0c30-42f8-94d0-f516335cddba"
      },
      "execution_count": 62,
      "outputs": [
        {
          "output_type": "stream",
          "name": "stdout",
          "text": [
            "8\n"
          ]
        }
      ]
    },
    {
      "cell_type": "code",
      "source": [
        "print(15%10)"
      ],
      "metadata": {
        "colab": {
          "base_uri": "https://localhost:8080/"
        },
        "id": "kMGlFMvG1tDu",
        "outputId": "35598d11-f319-413f-86a7-284a25a6e160"
      },
      "execution_count": 64,
      "outputs": [
        {
          "output_type": "stream",
          "name": "stdout",
          "text": [
            "5\n"
          ]
        }
      ]
    },
    {
      "cell_type": "code",
      "source": [
        "print(15//10)"
      ],
      "metadata": {
        "colab": {
          "base_uri": "https://localhost:8080/"
        },
        "id": "6fNaSyrJ18r7",
        "outputId": "2505273c-4243-49fb-d0de-0df16f48ef70"
      },
      "execution_count": 65,
      "outputs": [
        {
          "output_type": "stream",
          "name": "stdout",
          "text": [
            "1\n"
          ]
        }
      ]
    },
    {
      "cell_type": "markdown",
      "source": [
        "# **문자열**"
      ],
      "metadata": {
        "id": "Hd9HxvmH2FhK"
      }
    },
    {
      "cell_type": "code",
      "source": [
        "문자열 = \"문자열 내용\"\n",
        "문자열2 = \"문자열내용2\"\n",
        "문자열3 = \"\"\"문자열내용3\"\"\"\n",
        "문자열4 = '''문자열내용4'''\n",
        "print(문자열)\n",
        "print(문자열2)\n",
        "print(문자열3)\n",
        "print(문자열4)"
      ],
      "metadata": {
        "colab": {
          "base_uri": "https://localhost:8080/"
        },
        "id": "LVp-0tnX2jc6",
        "outputId": "6ae927b4-264d-48a2-94e1-7f4cc1d2f9c0"
      },
      "execution_count": 67,
      "outputs": [
        {
          "output_type": "stream",
          "name": "stdout",
          "text": [
            "문자열 내용\n",
            "문자열 내용2\n",
            "문자열 내용3\n",
            "문자열 내용4\n"
          ]
        }
      ]
    },
    {
      "cell_type": "code",
      "source": [
        "문자열5 = \"\"\"\n",
        "아니\n",
        "이건\n",
        "여러줄이 된다고?\"\"\"\n",
        "print(문자열5)"
      ],
      "metadata": {
        "colab": {
          "base_uri": "https://localhost:8080/"
        },
        "id": "LxCZRBDM2_y0",
        "outputId": "546f7741-7228-491c-f5e3-b9442058caa7"
      },
      "execution_count": 68,
      "outputs": [
        {
          "output_type": "stream",
          "name": "stdout",
          "text": [
            "\n",
            "아니\n",
            "이건\n",
            "여러줄이 된다고?\n"
          ]
        }
      ]
    },
    {
      "cell_type": "code",
      "source": [
        "print(문자열+문자열2)"
      ],
      "metadata": {
        "colab": {
          "base_uri": "https://localhost:8080/"
        },
        "id": "yO9SXwTq3PFi",
        "outputId": "cdea6b8c-6fc2-4665-98f9-8ba772bd6cd7"
      },
      "execution_count": 70,
      "outputs": [
        {
          "output_type": "stream",
          "name": "stdout",
          "text": [
            "문자열 내용문자열 내용2\n"
          ]
        }
      ]
    },
    {
      "cell_type": "code",
      "source": [
        "이름 = \"고윤혁\"\n",
        "인사 = \"안녕하세요\"\n",
        "print(인사+\" \" \"저는,\"+이름+\"입니다\")"
      ],
      "metadata": {
        "colab": {
          "base_uri": "https://localhost:8080/"
        },
        "id": "zIpdizQH32F7",
        "outputId": "6a8fb502-6a9f-44f1-dc5a-a55bf7ddb53d"
      },
      "execution_count": 71,
      "outputs": [
        {
          "output_type": "stream",
          "name": "stdout",
          "text": [
            "안녕하세요저는,고윤혁입니다\n"
          ]
        }
      ]
    },
    {
      "cell_type": "code",
      "source": [
        "이름 = \"고윤혁\"\n",
        "인사 = \"안녕하세요\"\n",
        "인삿말 = (인사+\" \" \"저는,\"+이름+\"입니다\\n\")\n",
        "print(인삿말*10)"
      ],
      "metadata": {
        "colab": {
          "base_uri": "https://localhost:8080/"
        },
        "id": "6aBYwSHb4LrR",
        "outputId": "01b1c3b4-c34f-496d-a55e-9520b5b8c276"
      },
      "execution_count": 75,
      "outputs": [
        {
          "output_type": "stream",
          "name": "stdout",
          "text": [
            "안녕하세요 저는,고윤혁입니다\n",
            "안녕하세요 저는,고윤혁입니다\n",
            "안녕하세요 저는,고윤혁입니다\n",
            "안녕하세요 저는,고윤혁입니다\n",
            "안녕하세요 저는,고윤혁입니다\n",
            "안녕하세요 저는,고윤혁입니다\n",
            "안녕하세요 저는,고윤혁입니다\n",
            "안녕하세요 저는,고윤혁입니다\n",
            "안녕하세요 저는,고윤혁입니다\n",
            "안녕하세요 저는,고윤혁입니다\n",
            "\n"
          ]
        }
      ]
    },
    {
      "cell_type": "code",
      "source": [
        "a=len(이름) #a=이름길이\n",
        "print(이름)\n",
        "print(a)"
      ],
      "metadata": {
        "colab": {
          "base_uri": "https://localhost:8080/"
        },
        "id": "h4QbDADh4mLx",
        "outputId": "2c4f22e6-7955-45a5-cb93-6e30140b8475"
      },
      "execution_count": 76,
      "outputs": [
        {
          "output_type": "stream",
          "name": "stdout",
          "text": [
            "고윤혁\n",
            "3\n"
          ]
        }
      ]
    },
    {
      "cell_type": "code",
      "source": [
        "print(type(이름))"
      ],
      "metadata": {
        "id": "Iqv42LZo5Laj"
      },
      "execution_count": 79,
      "outputs": []
    },
    {
      "cell_type": "markdown",
      "source": [
        "# **리스트**"
      ],
      "metadata": {
        "id": "7iA73r0R87GY"
      }
    },
    {
      "cell_type": "code",
      "source": [
        " print([1,2,3,4,5]) #[자료,자료,자료]"
      ],
      "metadata": {
        "colab": {
          "base_uri": "https://localhost:8080/"
        },
        "id": "9miO6IxQ8-sh",
        "outputId": "3061840b-ad6c-4b76-cfa7-ca9c17d59e6b"
      },
      "execution_count": 80,
      "outputs": [
        {
          "output_type": "stream",
          "name": "stdout",
          "text": [
            "[1, 2, 3, 4, 5]\n"
          ]
        }
      ]
    },
    {
      "cell_type": "code",
      "source": [
        "배열 = [-1,10.2, \"이름\",[1,2,3]]\n",
        "print(배열)\n",
        "print(배열[0])\n",
        "print(배열[2])"
      ],
      "metadata": {
        "colab": {
          "base_uri": "https://localhost:8080/"
        },
        "id": "niFKlJC69TlD",
        "outputId": "9e31030b-3c17-4c71-e5a8-37f9b779672b"
      },
      "execution_count": 86,
      "outputs": [
        {
          "output_type": "stream",
          "name": "stdout",
          "text": [
            "[-1, 10.2, '이름', [1, 2, 3]]\n",
            "-1\n",
            "이름\n"
          ]
        }
      ]
    },
    {
      "cell_type": "code",
      "source": [
        "print(배열[3])"
      ],
      "metadata": {
        "colab": {
          "base_uri": "https://localhost:8080/"
        },
        "id": "BEs77G9i9qsB",
        "outputId": "d0b096a4-dc52-4778-a628-7d22e54925f2"
      },
      "execution_count": 87,
      "outputs": [
        {
          "output_type": "stream",
          "name": "stdout",
          "text": [
            "[1, 2, 3]\n"
          ]
        }
      ]
    },
    {
      "cell_type": "code",
      "source": [
        "print(배열[3][1])"
      ],
      "metadata": {
        "colab": {
          "base_uri": "https://localhost:8080/"
        },
        "id": "pjIvp0Hv993R",
        "outputId": "b94affff-db0d-4a76-e40d-ad7228af9c25"
      },
      "execution_count": 88,
      "outputs": [
        {
          "output_type": "stream",
          "name": "stdout",
          "text": [
            "2\n"
          ]
        }
      ]
    },
    {
      "cell_type": "code",
      "source": [
        "print(배열[-1])\n",
        "a=(배열[len(배열)-1])\n",
        "print(a)"
      ],
      "metadata": {
        "colab": {
          "base_uri": "https://localhost:8080/"
        },
        "id": "0T4MABnW-QmO",
        "outputId": "231b9b83-1aec-4a57-c743-e7be9e34fc1e"
      },
      "execution_count": 92,
      "outputs": [
        {
          "output_type": "stream",
          "name": "stdout",
          "text": [
            "[1, 2, 3]\n",
            "[1, 2, 3]\n"
          ]
        }
      ]
    },
    {
      "cell_type": "code",
      "source": [
        "print(배열[1:3]) #1번째부터 3번째 이전까지"
      ],
      "metadata": {
        "colab": {
          "base_uri": "https://localhost:8080/"
        },
        "id": "nlnkPDSv-ssc",
        "outputId": "1ff385eb-5803-4b92-9199-439106aa9603"
      },
      "execution_count": 93,
      "outputs": [
        {
          "output_type": "stream",
          "name": "stdout",
          "text": [
            "[10.2, '이름']\n"
          ]
        }
      ]
    },
    {
      "cell_type": "code",
      "source": [
        "배열[-1] = 10\n",
        "print(배열)"
      ],
      "metadata": {
        "colab": {
          "base_uri": "https://localhost:8080/"
        },
        "id": "KvL8X28l_IE1",
        "outputId": "13d9271d-c049-4f00-a6a3-381dffdff0f8"
      },
      "execution_count": 96,
      "outputs": [
        {
          "output_type": "stream",
          "name": "stdout",
          "text": [
            "[-1, 10.2, '이름', 10]\n"
          ]
        }
      ]
    },
    {
      "cell_type": "code",
      "source": [
        "배열[:][-1] = [1,2,3]\n",
        "print(배열)"
      ],
      "metadata": {
        "colab": {
          "base_uri": "https://localhost:8080/"
        },
        "id": "TILGqajk_QtU",
        "outputId": "cbde9d3c-d919-453d-85b3-83b0c3d19310"
      },
      "execution_count": 97,
      "outputs": [
        {
          "output_type": "stream",
          "name": "stdout",
          "text": [
            "[-1, 10.2, '이름', 10]\n"
          ]
        }
      ]
    }
  ]
}